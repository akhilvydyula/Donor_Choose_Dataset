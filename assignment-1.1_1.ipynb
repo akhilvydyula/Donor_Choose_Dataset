{
 "cells": [
  {
   "cell_type": "code",
   "execution_count": 2,
   "metadata": {},
   "outputs": [
    {
     "name": "stdout",
     "output_type": "stream",
     "text": [
      "enter a number for multiplication table3\n",
      "3 X 0 = 0\n",
      "3 X 1 = 3\n",
      "3 X 2 = 6\n",
      "3 X 3 = 9\n",
      "3 X 4 = 12\n",
      "3 X 5 = 15\n",
      "3 X 6 = 18\n",
      "3 X 7 = 21\n",
      "3 X 8 = 24\n",
      "3 X 9 = 27\n",
      "3 X 10 = 30\n"
     ]
    }
   ],
   "source": [
    "#1.Write a function that inputs a number and prints the multiplication table of that number\n",
    "num=int(input(\"enter a number for multiplication table\"))\n",
    "def multi(num):\n",
    "    \"\"\"\n",
    "    This function shows multiplication table of given number\n",
    "    \"\"\"\n",
    "    for i in range(11):\n",
    "        print(num,'X',i,'=',num*i)\n",
    "        \n",
    "        \n",
    "multi(num)        "
   ]
  },
  {
   "cell_type": "code",
   "execution_count": 25,
   "metadata": {},
   "outputs": [
    {
     "name": "stdout",
     "output_type": "stream",
     "text": [
      "3 ,5\n",
      "5 ,7\n",
      "11 ,13\n",
      "17 ,19\n",
      "29 ,31\n",
      "41 ,43\n",
      "59 ,61\n",
      "71 ,73\n",
      "101 ,103\n",
      "107 ,109\n",
      "137 ,139\n",
      "149 ,151\n",
      "179 ,181\n",
      "191 ,193\n",
      "197 ,199\n",
      "227 ,229\n",
      "239 ,241\n",
      "269 ,271\n",
      "281 ,283\n",
      "311 ,313\n",
      "347 ,349\n",
      "419 ,421\n",
      "431 ,433\n",
      "461 ,463\n",
      "521 ,523\n",
      "569 ,571\n",
      "599 ,601\n",
      "617 ,619\n",
      "641 ,643\n",
      "659 ,661\n",
      "809 ,811\n",
      "821 ,823\n",
      "827 ,829\n",
      "857 ,859\n",
      "881 ,883\n"
     ]
    }
   ],
   "source": [
    "\"\"\"2. Write a program to print twin primes less than 1000. If two consecutive odd numbers are\n",
    "both prime then they are known as twin primes\"\"\"\n",
    "def is_prime(n):\n",
    "    \"\"\"The function used for prime number\"\"\"\n",
    "    for i in range(2, n):\n",
    "        if n % i == 0:\n",
    "            return False\n",
    "    return True\n",
    "\n",
    "def gene_twins(start, end):\n",
    "    for i in range(start, end):\n",
    "        j = i + 2\n",
    "        if(is_prime(i) and is_prime(j)):\n",
    "            print(\"{:d} ,{:d}\".format(i, j))\n",
    "\n",
    "gene_twins(2, 1000)"
   ]
  },
  {
   "cell_type": "code",
   "execution_count": 7,
   "metadata": {},
   "outputs": [
    {
     "name": "stdout",
     "output_type": "stream",
     "text": [
      "enter number7\n",
      "7\n"
     ]
    }
   ],
   "source": [
    "\"\"\"3. Write a program to find out the prime factors of a number. Example: prime factors of 56 -\n",
    "2, 2, 2, 7\"\"\"\n",
    "import numpy as np\n",
    "n=int(input(\"enter number\"))\n",
    "def primeFactors(n): \n",
    "      \"\"\"This function used for finding primr factors\"\"\"\n",
    "    \n",
    "    while n % 2 == 0: \n",
    "        print(2)\n",
    "        n = n / 2\n",
    "          \n",
    "   \n",
    "    for i in range(3,int(np.sqrt(n))+1,2): \n",
    "        while n % i== 0: \n",
    "            print(i)\n",
    "            n = n / i \n",
    "    if n > 2: \n",
    "        print(n)\n",
    "        \n",
    "        \n",
    "primeFactors(n)    "
   ]
  },
  {
   "cell_type": "code",
   "execution_count": 28,
   "metadata": {},
   "outputs": [
    {
     "name": "stdout",
     "output_type": "stream",
     "text": [
      "enter n4\n",
      "enter r0\n",
      "The permutation of given number is 1.0\n",
      "The combination of given number is 1.0\n"
     ]
    }
   ],
   "source": [
    "\"\"\"4. Write a program to implement these formulae of permutations and combinations.\n",
    "Number of permutations of n objects taken r at a time: p(n, r) = n! / (n-r)!. Number of\n",
    "combinations of n objects taken r at a time is: c(n, r) = n! / (r!*(n-r)!) = p(n,r) / r!\"\"\"\n",
    "n=int(input(\"enter n\"))\n",
    "r=int(input(\"enter r\"))\n",
    "def fact(n):\n",
    "    \"\"\"\n",
    "    finding the factorial of number\n",
    "    \"\"\"\n",
    "    if n<=0:\n",
    "        return 1 \n",
    "    else:\n",
    "        return n*fact(n-1)\n",
    "\n",
    "def permu(n,r):\n",
    "    return fact(n)/fact(n-r)\n",
    "\n",
    "def combi(n,r):\n",
    "    return fact(n)/(fact(r)*fact(n-r))\n",
    "\n",
    "print(\"The permutation of given number is\",permu(n,r))\n",
    "print(\"The combination of given number is\",combi(n,r))\n",
    "\n",
    "    "
   ]
  },
  {
   "cell_type": "code",
   "execution_count": 66,
   "metadata": {},
   "outputs": [
    {
     "name": "stdout",
     "output_type": "stream",
     "text": [
      "enter decimal number10\n",
      "1\n",
      "0\n",
      "1\n",
      "0\n"
     ]
    }
   ],
   "source": [
    "\"\"\"5. Write a function that converts a decimal number to binary number\"\"\"\n",
    "def convertToBinary(n):\n",
    "    \"\"\"This function used for convert decimal into binary\"\"\"\n",
    "    if n > 1:\n",
    "        convertToBinary(n//2)\n",
    "    print(n % 2)\n",
    "\n",
    "# decimal number\n",
    "dec=int(input(\"enter decimal number\"))\n",
    "\n",
    "convertToBinary(dec)\n"
   ]
  },
  {
   "cell_type": "code",
   "execution_count": 65,
   "metadata": {},
   "outputs": [
    {
     "name": "stdout",
     "output_type": "stream",
     "text": [
      "enter a number407\n",
      "its a armstrong\n"
     ]
    }
   ],
   "source": [
    "\"\"\"6.Write a function cubesum() that accepts an integer and returns the sum of the cubes of\n",
    "individual digits of that number. Use this function to make functions PrintArmstrong() and\n",
    "isArmstrong() to print Armstrong numbers and to find whether is an Armstrong number.\"\"\"\n",
    "temp=int(input(\"enter a number\"))\n",
    "num=temp\n",
    "def cubesum2(num):\n",
    "    \"\"\"This function used for check armstrong number\"\"\"\n",
    "    sum2=0  \n",
    "    while num>0:\n",
    "        rem=num%10\n",
    "        sum2+=rem**3\n",
    "        num=num//10\n",
    "    if sum2==temp:\n",
    "        print(\"Its a armstrong number\")\n",
    "    else:\n",
    "        print(\"Not a armstrong number\")\n",
    "\n",
    "cubesum2(num)"
   ]
  },
  {
   "cell_type": "code",
   "execution_count": 7,
   "metadata": {},
   "outputs": [
    {
     "name": "stdout",
     "output_type": "stream",
     "text": [
      "enter a number432\n",
      "24\n"
     ]
    }
   ],
   "source": [
    "\"\"\"7.Write a function prodDigits() that inputs a number and returns the product of digits of that\n",
    "number.\"\"\"\n",
    "num=int(input(\"Enter a number\"))\n",
    "def pronum(num):\n",
    "    \"\"\"This function used for product of digits in a number\"\"\"\n",
    "    pro=1\n",
    "    while num>0:\n",
    "        rem=num%10\n",
    "        pro=pro*rem\n",
    "        num=num//10  \n",
    "    return pro\n",
    "    \n",
    "\n",
    "print(pronum(num))    \n",
    "    "
   ]
  },
  {
   "cell_type": "code",
   "execution_count": 6,
   "metadata": {},
   "outputs": [
    {
     "name": "stdout",
     "output_type": "stream",
     "text": [
      "enter a number10\n"
     ]
    },
    {
     "data": {
      "text/plain": [
       "8"
      ]
     },
     "execution_count": 6,
     "metadata": {},
     "output_type": "execute_result"
    }
   ],
   "source": [
    "\"\"\"8.Write a function sumPdivisors() that finds the sum of proper divisors of a number. Proper\n",
    "divisors of a number are those numbers by which the number is divisible, except the\n",
    "number itself. For example proper divisors of 36 are 1, 2, 3, 4, 6, 9, 18\"\"\"\n",
    "import math\n",
    "num=int(input(\"enter a number\"))\n",
    "def divisorSum(num):\n",
    "    \"\"\"This function used for properdivisor sum of a number\"\"\"\n",
    "    sum_w=0\n",
    "    for i in range(1,num):\n",
    "        if(num % i == 0):\n",
    "            sum_w+=i\n",
    "    return sum_w\n",
    "    \n",
    "divisorSum(num)"
   ]
  },
  {
   "cell_type": "code",
   "execution_count": 4,
   "metadata": {},
   "outputs": [
    {
     "name": "stdout",
     "output_type": "stream",
     "text": [
      "enter 35\n",
      "15\n"
     ]
    }
   ],
   "source": [
    "\"\"\"If all digits of a number n are multiplied by each other repeating with the product, the one\n",
    "digit number obtained at last is called the multiplicative digital root of n. The number of\n",
    "times digits need to be multiplied to reach one digit is called the multiplicative\n",
    "persistance of n.\"\"\"\n",
    "number=int(input(\"enter \"))\n",
    "def mdr(number):\n",
    "    \"\"\"\n",
    "    This function is used for displaying pronum\"\"\"\n",
    "\n",
    "    while number>0:\n",
    "        print(pronum(number))\n",
    "        break;\n",
    "def pronum(num):\n",
    "    \"\"\"This is used for cal product of digits \"\"\"\n",
    "    pro=1\n",
    "    while num>0:\n",
    "        rem=num%10 \n",
    "        pro=pro*rem\n",
    "        num=num//10  \n",
    "    return pro\n",
    "    \n",
    "        \n",
    "        \n",
    "mdr(number)        \n",
    "        "
   ]
  },
  {
   "cell_type": "code",
   "execution_count": 1,
   "metadata": {},
   "outputs": [
    {
     "name": "stdout",
     "output_type": "stream",
     "text": [
      "enter a  number3\n",
      "not a perfect number\n"
     ]
    }
   ],
   "source": [
    "\"\"\"10. A number is called perfect if the sum of proper divisors of that number is equal to the\n",
    "number. For example 28 is perfect number, since 1+2+4+7+14=28. Write a program to\n",
    "print all the perfect numbers in a given range\"\"\"\n",
    "number=int(input(\"enter a  number\"))\n",
    "def perfect(number):\n",
    "    \"\"\"\n",
    "    check whether perfect number or not\"\"\"\n",
    "    sum3=0\n",
    "    for i in range(1,number):\n",
    "        if number%i==0:\n",
    "            sum3+=i\n",
    "    if sum3==number:\n",
    "        print(\"perfect number\")\n",
    "    else:\n",
    "        print(\"not a perfect number\")\n",
    "        \n",
    "perfect(number)        "
   ]
  },
  {
   "cell_type": "code",
   "execution_count": 3,
   "metadata": {},
   "outputs": [
    {
     "name": "stdout",
     "output_type": "stream",
     "text": [
      "enter n1000\n",
      "Amicable numbers: (6, 6)\n",
      "Amicable numbers: (28, 28)\n",
      "Amicable numbers: (220, 284)\n",
      "Amicable numbers: (284, 220)\n",
      "Amicable numbers: (496, 496)\n"
     ]
    }
   ],
   "source": [
    "\"\"\"11. Two different numbers are called amicable numbers if the sum of the proper divisors of\n",
    "each is equal to the other number. For example 220 and 284 are amicable numbers.\"\"\"\n",
    "n=int(input(\"enter n\"))\n",
    "def amicable_numbers(x,y):\n",
    "    \"\"\"ambicable number\"\"\"\n",
    "    sum_x=0\n",
    "    sum_y=0\n",
    "    for i in range(1,x):\n",
    "        if x%i==0:\n",
    "            sum_x+=i\n",
    " \n",
    "    for k in range(1,y):\n",
    "        if y%k==0:\n",
    "            sum_y+=k\n",
    " \n",
    "    return sum_x==y and sum_y==x\n",
    "\n",
    "for first_number in range(1, n+1):\n",
    "    for second_number in range(1, n+1):\n",
    "        if amicable_numbers(first_number, second_number):\n",
    "            print (\"Amicable numbers:\" , (first_number, second_number))\n",
    "            \n",
    "    \n",
    "               "
   ]
  },
  {
   "cell_type": "code",
   "execution_count": 12,
   "metadata": {},
   "outputs": [
    {
     "name": "stdout",
     "output_type": "stream",
     "text": [
      "[1, 3, 5, 7]\n"
     ]
    }
   ],
   "source": [
    "\"\"\"12. Write a program which can filter odd numbers in a list by using filter function\"\"\"\n",
    "list9=[1,3,2,5,7,8]\n",
    "rt=list(filter(lambda x:(x%2!=0),list9))\n",
    "print(rt)"
   ]
  },
  {
   "cell_type": "code",
   "execution_count": 32,
   "metadata": {},
   "outputs": [
    {
     "name": "stdout",
     "output_type": "stream",
     "text": [
      "[64, 125, 343, 27, 27]\n"
     ]
    }
   ],
   "source": [
    "\"\"\"\"13. Write a program which can map() to make a list whose elements are cube of elements in\n",
    "a given list\"\"\"\n",
    "list5=[4,5,7,3,3]\n",
    "new_list=list(map(lambda x:x**3,list5))\n",
    "print(new_list)\n"
   ]
  },
  {
   "cell_type": "code",
   "execution_count": 53,
   "metadata": {},
   "outputs": [
    {
     "name": "stdout",
     "output_type": "stream",
     "text": [
      "[8, 512]\n"
     ]
    }
   ],
   "source": [
    "\"\"\"14. Write a program which can map() and filter() to make a list whose elements are cube of\n",
    "even number in a given list\"\"\"\n",
    "list6=[1,3,2,5,7,8]\n",
    "rt=list(filter(lambda x:(x%2==0),list6))\n",
    "ok=list(map(lambda x:x**3,rt))\n",
    "print(ok)"
   ]
  },
  {
   "cell_type": "code",
   "execution_count": null,
   "metadata": {},
   "outputs": [],
   "source": []
  }
 ],
 "metadata": {
  "kernelspec": {
   "display_name": "Python 3",
   "language": "python",
   "name": "python3"
  },
  "language_info": {
   "codemirror_mode": {
    "name": "ipython",
    "version": 3
   },
   "file_extension": ".py",
   "mimetype": "text/x-python",
   "name": "python",
   "nbconvert_exporter": "python",
   "pygments_lexer": "ipython3",
   "version": "3.6.3rc1"
  }
 },
 "nbformat": 4,
 "nbformat_minor": 2
}
